{
 "metadata": {
  "name": "",
  "signature": "sha256:8a75ff2ad4097b0866a79b3f1ef24c0e3d04fbad28b60ade1109459211ce8dcd"
 },
 "nbformat": 3,
 "nbformat_minor": 0,
 "worksheets": [
  {
   "cells": [
    {
     "cell_type": "markdown",
     "metadata": {},
     "source": [
      "#Relationship Between XRD and Autocorrelation\n",
      "\n",
      "X-ray Scattering plots provide the intensity of X-ray signal defined as $I$. The intensity can be related to the Fourier transform of the electron density denoted as $A$ (the electron density will be represented as $\\rho(x)$).\n",
      "\n",
      "$$A = \\int \\rho(x) e^{ikx} dx$$\n",
      "\n",
      "$$ I = |A| = A (A)^*$$\n",
      "\n"
     ]
    },
    {
     "cell_type": "markdown",
     "metadata": {},
     "source": [
      "where $(A)^*$ is the complex conjugate of $A$.$I$ and $\\rho(x)$ have the following relationship."
     ]
    },
    {
     "cell_type": "markdown",
     "metadata": {},
     "source": [
      "$$ I = \\int \\rho(x) e^{ikx} dx \\int \\rho(y) e^{-iky} dy $$\n",
      "\n",
      "$$ I = \\int \\int \\rho(x) \\rho(y) e^{ik(x - y)} dx dy $$"
     ]
    },
    {
     "cell_type": "markdown",
     "metadata": {},
     "source": [
      "Now lets make a change of variable and let\n",
      "\n",
      "$$ z = x - y$$\n",
      "\n",
      "Substituting this relationship back in the the equation we get.\n",
      "\n",
      "$$ I = \\int \\int \\rho(z + y) \\rho(y) e^{ikz} dz dy $$\n",
      "$$ I = \\mathscr{F} \\Bigg \\{ \\int \\rho(z + y) \\rho(y) dy \\Bigg \\} $$"
     ]
    },
    {
     "cell_type": "markdown",
     "metadata": {},
     "source": [
      "Therefore the autocorrelaiton of the electron density $\\rho(x)$ equal to the inverse Fourier transform of the intensity $I$.\n",
      "\n",
      "$$ \\int \\rho(z + y) \\rho(y) dy = \\mathscr{F}^{-1} \\{ I \\} $$"
     ]
    }
   ],
   "metadata": {}
  }
 ]
}