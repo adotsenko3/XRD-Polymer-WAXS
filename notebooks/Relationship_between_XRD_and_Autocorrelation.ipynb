{
 "metadata": {
  "name": "",
  "signature": "sha256:9b5acbd8a84cd2f0b67ae101b543e9826a738aec5424398ec4ce06557c7dc15a"
 },
 "nbformat": 3,
 "nbformat_minor": 0,
 "worksheets": [
  {
   "cells": [
    {
     "cell_type": "markdown",
     "metadata": {},
     "source": [
      "#Relationship Between XRD and Autocorrelation\n",
      "\n",
      "X-ray Scattering plots provide the intensity of X-ray signal defined as $I(\\pmb k)$. The intensity can be related to the Fourier transform of the electron density denoted as $A$ (the electron density will be represented as $\\rho(\\pmb x)$).\n",
      "\n",
      "$$A(\\pmb{k})= \\int \\rho(\\pmb x) e^{i\\pmb{kx}} d\\pmb x$$\n",
      "\n",
      "$$ I(\\pmb k) = |A(\\pmb k)| = A(\\pmb k) (A(\\pmb k))^*$$\n",
      "\n"
     ]
    },
    {
     "cell_type": "markdown",
     "metadata": {},
     "source": [
      "where $(A(\\pmb k ))^*$ is the complex conjugate of $A(\\pmb k)$. $I(\\pmb k)$ and $\\rho(\\pmb x)$ have the following relationship."
     ]
    },
    {
     "cell_type": "markdown",
     "metadata": {},
     "source": [
      "$$ I(\\pmb k) = \\int \\rho(\\pmb x) e^{i\\pmb{kx}} dx \\int \\rho(\\pmb y) e^{-i\\pmb {ky}} d\\pmb y $$\n",
      "\n",
      "$$ I(\\pmb k) = \\int \\int \\rho(\\pmb x) \\rho(\\pmb y) e^{i\\pmb k(\\pmb x - \\pmb y)} d\\pmb x d\\pmb y$$"
     ]
    },
    {
     "cell_type": "markdown",
     "metadata": {},
     "source": [
      "Now lets make a change of variable and let\n",
      "\n",
      "$$ \\pmb z = \\pmb x - \\pmb y$$\n",
      "\n",
      "Substituting this relationship back in the the equation we get.\n",
      "\n",
      "$$ I(\\pmb k) = \\int \\int \\rho(\\pmb z + \\pmb y) \\rho(\\pmb y) e^{i\\pmb k\\pmb z} d\\pmb z d\\pmb y = \\int \\Gamma_{\\rho}(\\pmb z) e^{i\\pmb k\\pmb z} d\\pmb z$$\n",
      "$$ I(\\pmb k) = \\mathscr{F} \\Big \\{ \\Gamma_{\\rho}(\\pmb z)\\Big \\} $$\n",
      "\n",
      "where\n",
      "\n",
      "$$ \\Gamma_{\\rho}(\\pmb z) = \\int \\rho( \\pmb x) \\rho( \\pmb x + \\pmb z) d \\pmb x $$"
     ]
    },
    {
     "cell_type": "markdown",
     "metadata": {},
     "source": [
      "Therefore the autocorrelaiton of the electron density $\\rho(\\pmb x)$ equal to the inverse Fourier transform of the intensity $I(\\pmb k)$.\n",
      "\n",
      "$$ \\Gamma_{\\rho}(\\pmb z)  = \\mathscr{F}^{-1} \\{ I(\\pmb k) \\} $$\n",
      "\n",
      "$$ \\Gamma_{\\rho}(\\pmb z)= \\int I(\\pmb k) e^{-i\\pmb k\\pmb z} d\\pmb k    \\space \\space \\space \\space     \\pmb{(1)}$$   "
     ]
    },
    {
     "cell_type": "markdown",
     "metadata": {},
     "source": [
      "$$ \\Gamma_{\\rho}(\\pmb z) = \\int I(\\pmb k) [cos(\\pmb k \\pmb z) - i sin(\\pmb k \\pmb z)] d\\pmb k $$\n",
      "\n",
      "$$ \\Gamma_{\\rho}(\\pmb z) = \\int I(\\pmb k) cos(\\pmb k\\pmb z)d\\pmb z - i \\int I sin(\\pmb k\\pmb z)d\\pmb k $$\n",
      "\n",
      "In the case that $I(\\pmb k)$ is symetric integral containing $sin(\\pmb k \\pmb z)$ will always be equal to zero.\n",
      "\n",
      "$$ \\Gamma_{\\rho}(\\pmb z) = \\int I(\\pmb k) cos(\\pmb k\\pmb z)d\\pmb k $$"
     ]
    },
    {
     "cell_type": "markdown",
     "metadata": {},
     "source": [
      "# Autocorrelation of Local State One from SAXS DATA\n",
      "\n",
      "SAXS data provides the difference in electron density in the range of 1 to 1,000 nm. \n",
      "This difference can be represented as deviation from the mean electron density, $\\bar{\\rho}$ as \n",
      "shown below.\n",
      "\n",
      "$$ \\eta( \\pmb z) = \\rho( \\pmb z) - \\bar \\rho$$"
     ]
    },
    {
     "cell_type": "markdown",
     "metadata": {},
     "source": [
      "Let $\\Gamma_{\\eta} (\\pmb x)$ represent the autocorrelation of $\\eta ( \\pmb x)$.\n",
      "\n",
      "$$ \\Gamma_{\\eta} (\\pmb x) = \\int \\eta ( \\pmb y) \\eta ( \\pmb y + \\pmb x) d \\pmb y $$"
     ]
    },
    {
     "cell_type": "markdown",
     "metadata": {},
     "source": [
      "Let $\\gamma (\\pmb x)$ represent the normalized autocorrelation of $\\eta ( \\pmb x)$ and is referred to as the Debye correlation function [1].\n",
      "\n",
      "$$ \\gamma (\\pmb x) = \\frac{\\Gamma_{\\eta} (\\pmb x)}{\\Gamma_{\\eta} (0)} $$"
     ]
    },
    {
     "cell_type": "markdown",
     "metadata": {},
     "source": [
      "The normalization constant is\n",
      "\n",
      "$$\\Gamma_{\\eta}(0) = \\int \\eta ( \\pmb y) \\eta ( \\pmb y + \\pmb 0) d \\pmb y = V \\eta_o^2$$\n",
      "\n",
      "where $V$ is the scattering volume and $\\eta_o^2$ is the mean square perturbation of the scattering length density throughout the system [1]."
     ]
    },
    {
     "cell_type": "markdown",
     "metadata": {},
     "source": [
      "The relationship between the Debye correlation function and the correlation function of $\\eta( \\pmb x)$ can be expressed as follows.\n",
      "\n",
      "$$ \\Gamma_{\\eta} (\\pmb x) = V \\eta_o^2 \\gamma (\\pmb x) $$"
     ]
    },
    {
     "cell_type": "markdown",
     "metadata": {},
     "source": [
      "This new definition allows us to write equation $(1)$ in terms of $\\gamma (\\pmb x)$.\n",
      "\n",
      "$$ \\gamma (\\pmb x) = \\frac{1}{V \\eta_o^2} \\int I ( \\pmb k) e^{-i\\pmb k\\pmb z} d\\pmb k \\space \\space \\space \\space (2)$$"
     ]
    },
    {
     "cell_type": "markdown",
     "metadata": {},
     "source": [
      "The $\\gamma (\\pmb x)$ is related to the autocorrelation for local state one was shown below [2].\n",
      "\n",
      "$$ \\gamma (\\pmb x) = f^{11}( \\pmb x) - V_1^2  \\space \\space \\space \\space (3)$$\n",
      "\n",
      "where $ f^{11}( \\pmb x)$ is the autocorrelation of local state one and $V_1$ is the volume fraction of local state one."
     ]
    },
    {
     "cell_type": "markdown",
     "metadata": {},
     "source": [
      "By combining of equations $(2)$ and $(3)$ provides the relationship between the 2-point statistics, X-ray scattering intensity and volume fraction.\n",
      "\n",
      "$$f^{11}( \\pmb x) = \\frac{1}{V \\eta_o^2} \\int I ( \\pmb k) e^{-i\\pmb k\\pmb x} d\\pmb k + V_1^2$$"
     ]
    },
    {
     "cell_type": "markdown",
     "metadata": {},
     "source": [
      "#References\n",
      "\n",
      "[1] R. J. Roe, *Methods of X-Ray and Neutron Scattering in Polymer Science*, 174-176, Oxford University Press 2000.\n",
      "\n",
      "[2] M. Baniassadi, F. Addiego, F. Hassouna, A. Laachachi, A. Makradi, S. Ahzi, V. Toniazzo, H. Garmestani, D. Ruch *Using SAXS approach to estimate thermal conductivity of polystyrene/zirconia nanocomposite by exploiting strong contrast technique*, Acta Mater (2011) [doi:10.1016/j.actamat.2011.01.013](http://dx.doi.org/doi:10.1016/j.actamat.2011.01.013)."
     ]
    }
   ],
   "metadata": {}
  }
 ]
}